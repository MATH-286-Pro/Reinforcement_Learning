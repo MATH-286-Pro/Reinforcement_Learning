{
 "cells": [
  {
   "cell_type": "markdown",
   "id": "93da7e11",
   "metadata": {},
   "source": [
    "# **dataclasses.field(default_factory = XXX)**\n",
    "直接使用 `class()` 实例化，如果属性有可变类型（list, dict, set等），会导致所有实例共享同一个可变对象，进而引发难以察觉的bug  \n",
    "所以使用 `dataclasses.field(default_factory = XXX)` 来为每个实例创建独立的可变对象"
   ]
  },
  {
   "cell_type": "code",
   "execution_count": 5,
   "id": "6752895d",
   "metadata": {},
   "outputs": [],
   "source": [
    "import dataclasses"
   ]
  },
  {
   "cell_type": "code",
   "execution_count": null,
   "id": "d0a88ad0",
   "metadata": {},
   "outputs": [
    {
     "name": "stdout",
     "output_type": "stream",
     "text": [
      "[1]\n",
      "[]\n"
     ]
    }
   ],
   "source": [
    "\n",
    "@dataclasses.dataclass\n",
    "class Foo:\n",
    "    values: list = dataclasses.field(default_factory=list)   # 推荐\n",
    "    # values: list = []   # 坏写法，所有 Foo 实例会共享同一个 list\n",
    "\n",
    "a = Foo()\n",
    "b = Foo()\n",
    "\n",
    "a.values.append(1)\n",
    "print(a.values)  \n",
    "print(b.values) "
   ]
  },
  {
   "cell_type": "code",
   "execution_count": 6,
   "id": "e33d24eb",
   "metadata": {},
   "outputs": [
    {
     "name": "stdout",
     "output_type": "stream",
     "text": [
      "a: [1]\n",
      "b: [1]\n"
     ]
    }
   ],
   "source": [
    "dataclasses.dataclass\n",
    "class Foo:\n",
    "    def __init__(self, values=[]):\n",
    "        self.values = values\n",
    "\n",
    "a = Foo()\n",
    "b = Foo()\n",
    "a.values.append(1)\n",
    "\n",
    "print(\"a:\", a.values)  # [1]\n",
    "print(\"b:\", b.values)  # [1] ← 共享了同一个 list"
   ]
  }
 ],
 "metadata": {
  "kernelspec": {
   "display_name": "env_mujoco",
   "language": "python",
   "name": "python3"
  },
  "language_info": {
   "codemirror_mode": {
    "name": "ipython",
    "version": 3
   },
   "file_extension": ".py",
   "mimetype": "text/x-python",
   "name": "python",
   "nbconvert_exporter": "python",
   "pygments_lexer": "ipython3",
   "version": "3.12.11"
  }
 },
 "nbformat": 4,
 "nbformat_minor": 5
}
