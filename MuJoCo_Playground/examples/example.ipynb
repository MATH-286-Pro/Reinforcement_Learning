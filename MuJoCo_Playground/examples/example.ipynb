{
 "cells": [
  {
   "cell_type": "markdown",
   "id": "8eaf2784",
   "metadata": {},
   "source": [
    "# **Actor Critic**"
   ]
  },
  {
   "cell_type": "code",
   "execution_count": 1,
   "id": "d7bec321",
   "metadata": {},
   "outputs": [
    {
     "name": "stdout",
     "output_type": "stream",
     "text": [
      "所有库导入成功！\n"
     ]
    }
   ],
   "source": [
    "# 导入必要的库\n",
    "import torch\n",
    "import torch.nn as nn\n",
    "import torch.optim as optim\n",
    "import torch.nn.functional as F\n",
    "import gymnasium as gym\n",
    "import numpy as np\n",
    "import matplotlib.pyplot as plt\n",
    "from collections import deque\n",
    "\n",
    "print(\"所有库导入成功！\")"
   ]
  },
  {
   "cell_type": "code",
   "execution_count": 2,
   "id": "9053a1ec",
   "metadata": {},
   "outputs": [
    {
     "name": "stdout",
     "output_type": "stream",
     "text": [
      "Actor网络定义完成！\n"
     ]
    }
   ],
   "source": [
    "# Actor 网络 - 策略网络\n",
    "class Actor(nn.Module):\n",
    "    def __init__(self, state_size, action_size, hidden_size=128):\n",
    "        super(Actor, self).__init__()\n",
    "        self.fc1 = nn.Linear(state_size, hidden_size)\n",
    "        self.fc2 = nn.Linear(hidden_size, hidden_size)\n",
    "        self.fc3 = nn.Linear(hidden_size, action_size)\n",
    "        \n",
    "    def forward(self, state):\n",
    "        x = F.relu(self.fc1(state))\n",
    "        x = F.relu(self.fc2(x))\n",
    "        action_probs = F.softmax(self.fc3(x), dim=-1)\n",
    "        return action_probs\n",
    "\n",
    "print(\"Actor网络定义完成！\")"
   ]
  },
  {
   "cell_type": "code",
   "execution_count": 3,
   "id": "321787f4",
   "metadata": {},
   "outputs": [
    {
     "name": "stdout",
     "output_type": "stream",
     "text": [
      "Critic网络定义完成！\n"
     ]
    }
   ],
   "source": [
    "# Critic 网络 - 价值网络\n",
    "class Critic(nn.Module):\n",
    "    def __init__(self, state_size, hidden_size=128):\n",
    "        super(Critic, self).__init__()\n",
    "        self.fc1 = nn.Linear(state_size, hidden_size)\n",
    "        self.fc2 = nn.Linear(hidden_size, hidden_size)\n",
    "        self.fc3 = nn.Linear(hidden_size, 1)\n",
    "        \n",
    "    def forward(self, state):\n",
    "        x = F.relu(self.fc1(state))\n",
    "        x = F.relu(self.fc2(x))\n",
    "        value = self.fc3(x)\n",
    "        return value\n",
    "\n",
    "print(\"Critic网络定义完成！\")"
   ]
  },
  {
   "cell_type": "code",
   "execution_count": null,
   "id": "5d4e902b",
   "metadata": {},
   "outputs": [
    {
     "name": "stdout",
     "output_type": "stream",
     "text": [
      "ActorCritic智能体定义完成！\n"
     ]
    }
   ],
   "source": [
    "# Actor-Critic 智能体\n",
    "class ActorCritic:\n",
    "    def __init__(self, state_size, action_size, lr_actor=0.001, lr_critic=0.001, gamma=0.99):\n",
    "        self.gamma = gamma\n",
    "        \n",
    "        # 创建Actor和Critic网络\n",
    "        self.actor = Actor(state_size, action_size)\n",
    "        self.critic = Critic(state_size)\n",
    "        \n",
    "        # 优化器\n",
    "        self.actor_optimizer = optim.Adam(self.actor.parameters(), lr=lr_actor)\n",
    "        self.critic_optimizer = optim.Adam(self.critic.parameters(), lr=lr_critic)\n",
    "        \n",
    "    def get_action(self, state):\n",
    "        \"\"\"根据当前状态选择动作\"\"\"\n",
    "        state = torch.FloatTensor(state).unsqueeze(0)\n",
    "        action_probs = self.actor(state)\n",
    "        dist = torch.distributions.Categorical(action_probs)\n",
    "        action = dist.sample()\n",
    "        log_prob = dist.log_prob(action)\n",
    "        return action.item(), log_prob\n",
    "    \n",
    "    def update(self, state, action, reward, next_state, done, log_prob):  # (state, action) -> next_state\n",
    "        \"\"\"更新Actor和Critic网络\"\"\"\n",
    "        state = torch.FloatTensor(state).unsqueeze(0)\n",
    "        next_state = torch.FloatTensor(next_state).unsqueeze(0)\n",
    "        reward = torch.FloatTensor([reward])\n",
    "        \n",
    "        # 计算TD误差 (Critic的目标)\n",
    "        current_value = self.critic(state)\n",
    "        next_value    = self.critic(next_state)\n",
    "        \n",
    "        if done:\n",
    "            td_target = reward\n",
    "        else:\n",
    "            td_target = reward + self.gamma * next_value  # TD Error 核心\n",
    "            \n",
    "        td_error = td_target - current_value\n",
    "        \n",
    "        # 更新Critic网络 (最小化价值函数误差)\n",
    "        critic_loss = td_error.pow(2)\n",
    "        self.critic_optimizer.zero_grad()\n",
    "        critic_loss.backward(retain_graph=True)\n",
    "        self.critic_optimizer.step()\n",
    "        \n",
    "        # 更新Actor网络 (策略梯度)\n",
    "        actor_loss = -log_prob * td_error.detach()  # detach是为了不更新critic\n",
    "        self.actor_optimizer.zero_grad()\n",
    "        actor_loss.backward()\n",
    "        self.actor_optimizer.step()\n",
    "\n",
    "print(\"ActorCritic智能体定义完成！\")"
   ]
  },
  {
   "cell_type": "code",
   "execution_count": null,
   "id": "93f40fe9",
   "metadata": {},
   "outputs": [
    {
     "name": "stdout",
     "output_type": "stream",
     "text": [
      "训练函数定义完成！\n"
     ]
    }
   ],
   "source": [
    "# 训练函数\n",
    "def train_actor_critic(episodes=1000):\n",
    "    # 创建环境\n",
    "    env = gym.make('CartPole-v1')\n",
    "    state_size = env.observation_space.shape[0]  # 4 (位置、速度、角度、角速度)\n",
    "    action_size = env.action_space.n  # 2 (左、右)\n",
    "    \n",
    "    # 创建智能体\n",
    "    agent = ActorCritic(state_size, action_size)\n",
    "    \n",
    "    # 记录奖励\n",
    "    scores = deque(maxlen=100)\n",
    "    episode_scores = []\n",
    "    \n",
    "    for episode in range(episodes):\n",
    "        state = env.reset()\n",
    "        if isinstance(state, tuple):  # 新版gym返回(state, info)\n",
    "            state = state[0]\n",
    "            \n",
    "        total_reward = 0\n",
    "        \n",
    "        while True:\n",
    "            # 选择动作\n",
    "            action, log_prob = agent.get_action(state)\n",
    "            \n",
    "            # 执行动作\n",
    "            next_state, reward, terminated, truncated, _ = env.step(action)   # (state, action) -> next_state\n",
    "            done = terminated or truncated\n",
    "            \n",
    "            # 更新智能体\n",
    "            agent.update(state, action, reward, next_state, done, log_prob)\n",
    "            \n",
    "            state = next_state\n",
    "            total_reward += reward\n",
    "            \n",
    "            if done:\n",
    "                break\n",
    "        \n",
    "        scores.append(total_reward)\n",
    "        episode_scores.append(total_reward)\n",
    "        \n",
    "        # 每100个episode打印一次结果\n",
    "        if episode % 100 == 0:\n",
    "            avg_score = np.mean(scores)\n",
    "            print(f\"Episode {episode}, Average Score: {avg_score:.2f}\")\n",
    "    \n",
    "    env.close()\n",
    "    return episode_scores, agent\n",
    "\n",
    "print(\"训练函数定义完成！\")"
   ]
  },
  {
   "cell_type": "code",
   "execution_count": 6,
   "id": "b76518c0",
   "metadata": {},
   "outputs": [
    {
     "name": "stdout",
     "output_type": "stream",
     "text": [
      "开始训练Actor-Critic智能体...\n",
      "Episode 0, Average Score: 10.00\n",
      "Episode 100, Average Score: 48.70\n",
      "Episode 200, Average Score: 76.76\n",
      "Episode 300, Average Score: 163.16\n",
      "Episode 400, Average Score: 168.60\n",
      "训练完成！\n"
     ]
    }
   ],
   "source": [
    "# 开始训练\n",
    "print(\"开始训练Actor-Critic智能体...\")\n",
    "scores, trained_agent = train_actor_critic(episodes=500)\n",
    "print(\"训练完成！\")"
   ]
  },
  {
   "cell_type": "code",
   "execution_count": 7,
   "id": "9e83c2c4",
   "metadata": {},
   "outputs": [
    {
     "name": "stderr",
     "output_type": "stream",
     "text": [
      "/tmp/ipykernel_148636/980038046.py:24: UserWarning: Glyph 22870 (\\N{CJK UNIFIED IDEOGRAPH-5956}) missing from font(s) DejaVu Sans.\n",
      "  plt.tight_layout()\n",
      "/tmp/ipykernel_148636/980038046.py:24: UserWarning: Glyph 21169 (\\N{CJK UNIFIED IDEOGRAPH-52B1}) missing from font(s) DejaVu Sans.\n",
      "  plt.tight_layout()\n",
      "/tmp/ipykernel_148636/980038046.py:24: UserWarning: Glyph 27599 (\\N{CJK UNIFIED IDEOGRAPH-6BCF}) missing from font(s) DejaVu Sans.\n",
      "  plt.tight_layout()\n",
      "/tmp/ipykernel_148636/980038046.py:24: UserWarning: Glyph 20010 (\\N{CJK UNIFIED IDEOGRAPH-4E2A}) missing from font(s) DejaVu Sans.\n",
      "  plt.tight_layout()\n",
      "/tmp/ipykernel_148636/980038046.py:24: UserWarning: Glyph 30340 (\\N{CJK UNIFIED IDEOGRAPH-7684}) missing from font(s) DejaVu Sans.\n",
      "  plt.tight_layout()\n",
      "/tmp/ipykernel_148636/980038046.py:24: UserWarning: Glyph 24179 (\\N{CJK UNIFIED IDEOGRAPH-5E73}) missing from font(s) DejaVu Sans.\n",
      "  plt.tight_layout()\n",
      "/tmp/ipykernel_148636/980038046.py:24: UserWarning: Glyph 22343 (\\N{CJK UNIFIED IDEOGRAPH-5747}) missing from font(s) DejaVu Sans.\n",
      "  plt.tight_layout()\n",
      "/tmp/ipykernel_148636/980038046.py:24: UserWarning: Glyph 31227 (\\N{CJK UNIFIED IDEOGRAPH-79FB}) missing from font(s) DejaVu Sans.\n",
      "  plt.tight_layout()\n",
      "/tmp/ipykernel_148636/980038046.py:24: UserWarning: Glyph 21160 (\\N{CJK UNIFIED IDEOGRAPH-52A8}) missing from font(s) DejaVu Sans.\n",
      "  plt.tight_layout()\n",
      "/tmp/ipykernel_148636/980038046.py:24: UserWarning: Glyph 31383 (\\N{CJK UNIFIED IDEOGRAPH-7A97}) missing from font(s) DejaVu Sans.\n",
      "  plt.tight_layout()\n",
      "/tmp/ipykernel_148636/980038046.py:24: UserWarning: Glyph 21475 (\\N{CJK UNIFIED IDEOGRAPH-53E3}) missing from font(s) DejaVu Sans.\n",
      "  plt.tight_layout()\n",
      "/tmp/ipykernel_148636/980038046.py:24: UserWarning: Glyph 22823 (\\N{CJK UNIFIED IDEOGRAPH-5927}) missing from font(s) DejaVu Sans.\n",
      "  plt.tight_layout()\n",
      "/tmp/ipykernel_148636/980038046.py:24: UserWarning: Glyph 23567 (\\N{CJK UNIFIED IDEOGRAPH-5C0F}) missing from font(s) DejaVu Sans.\n",
      "  plt.tight_layout()\n",
      "/home/jiajun_hu/Documents/Reinforcement_Learning/.venv/lib/python3.10/site-packages/IPython/core/pylabtools.py:170: UserWarning: Glyph 22870 (\\N{CJK UNIFIED IDEOGRAPH-5956}) missing from font(s) DejaVu Sans.\n",
      "  fig.canvas.print_figure(bytes_io, **kw)\n",
      "/home/jiajun_hu/Documents/Reinforcement_Learning/.venv/lib/python3.10/site-packages/IPython/core/pylabtools.py:170: UserWarning: Glyph 21169 (\\N{CJK UNIFIED IDEOGRAPH-52B1}) missing from font(s) DejaVu Sans.\n",
      "  fig.canvas.print_figure(bytes_io, **kw)\n",
      "/home/jiajun_hu/Documents/Reinforcement_Learning/.venv/lib/python3.10/site-packages/IPython/core/pylabtools.py:170: UserWarning: Glyph 27599 (\\N{CJK UNIFIED IDEOGRAPH-6BCF}) missing from font(s) DejaVu Sans.\n",
      "  fig.canvas.print_figure(bytes_io, **kw)\n",
      "/home/jiajun_hu/Documents/Reinforcement_Learning/.venv/lib/python3.10/site-packages/IPython/core/pylabtools.py:170: UserWarning: Glyph 20010 (\\N{CJK UNIFIED IDEOGRAPH-4E2A}) missing from font(s) DejaVu Sans.\n",
      "  fig.canvas.print_figure(bytes_io, **kw)\n",
      "/home/jiajun_hu/Documents/Reinforcement_Learning/.venv/lib/python3.10/site-packages/IPython/core/pylabtools.py:170: UserWarning: Glyph 30340 (\\N{CJK UNIFIED IDEOGRAPH-7684}) missing from font(s) DejaVu Sans.\n",
      "  fig.canvas.print_figure(bytes_io, **kw)\n",
      "/home/jiajun_hu/Documents/Reinforcement_Learning/.venv/lib/python3.10/site-packages/IPython/core/pylabtools.py:170: UserWarning: Glyph 24179 (\\N{CJK UNIFIED IDEOGRAPH-5E73}) missing from font(s) DejaVu Sans.\n",
      "  fig.canvas.print_figure(bytes_io, **kw)\n",
      "/home/jiajun_hu/Documents/Reinforcement_Learning/.venv/lib/python3.10/site-packages/IPython/core/pylabtools.py:170: UserWarning: Glyph 22343 (\\N{CJK UNIFIED IDEOGRAPH-5747}) missing from font(s) DejaVu Sans.\n",
      "  fig.canvas.print_figure(bytes_io, **kw)\n",
      "/home/jiajun_hu/Documents/Reinforcement_Learning/.venv/lib/python3.10/site-packages/IPython/core/pylabtools.py:170: UserWarning: Glyph 31227 (\\N{CJK UNIFIED IDEOGRAPH-79FB}) missing from font(s) DejaVu Sans.\n",
      "  fig.canvas.print_figure(bytes_io, **kw)\n",
      "/home/jiajun_hu/Documents/Reinforcement_Learning/.venv/lib/python3.10/site-packages/IPython/core/pylabtools.py:170: UserWarning: Glyph 21160 (\\N{CJK UNIFIED IDEOGRAPH-52A8}) missing from font(s) DejaVu Sans.\n",
      "  fig.canvas.print_figure(bytes_io, **kw)\n",
      "/home/jiajun_hu/Documents/Reinforcement_Learning/.venv/lib/python3.10/site-packages/IPython/core/pylabtools.py:170: UserWarning: Glyph 31383 (\\N{CJK UNIFIED IDEOGRAPH-7A97}) missing from font(s) DejaVu Sans.\n",
      "  fig.canvas.print_figure(bytes_io, **kw)\n",
      "/home/jiajun_hu/Documents/Reinforcement_Learning/.venv/lib/python3.10/site-packages/IPython/core/pylabtools.py:170: UserWarning: Glyph 21475 (\\N{CJK UNIFIED IDEOGRAPH-53E3}) missing from font(s) DejaVu Sans.\n",
      "  fig.canvas.print_figure(bytes_io, **kw)\n",
      "/home/jiajun_hu/Documents/Reinforcement_Learning/.venv/lib/python3.10/site-packages/IPython/core/pylabtools.py:170: UserWarning: Glyph 22823 (\\N{CJK UNIFIED IDEOGRAPH-5927}) missing from font(s) DejaVu Sans.\n",
      "  fig.canvas.print_figure(bytes_io, **kw)\n",
      "/home/jiajun_hu/Documents/Reinforcement_Learning/.venv/lib/python3.10/site-packages/IPython/core/pylabtools.py:170: UserWarning: Glyph 23567 (\\N{CJK UNIFIED IDEOGRAPH-5C0F}) missing from font(s) DejaVu Sans.\n",
      "  fig.canvas.print_figure(bytes_io, **kw)\n"
     ]
    },
    {
     "data": {
      "image/png": "[encoded data removed]",
      "text/plain": [
       "<Figure size 1200x400 with 2 Axes>"
      ]
     },
     "metadata": {},
     "output_type": "display_data"
    },
    {
     "name": "stdout",
     "output_type": "stream",
     "text": [
      "最后100个episode的平均奖励: 129.91\n"
     ]
    }
   ],
   "source": [
    "# 绘制训练结果\n",
    "plt.figure(figsize=(12, 4))\n",
    "\n",
    "# 绘制每个episode的奖励\n",
    "plt.subplot(1, 2, 1)\n",
    "plt.plot(scores)\n",
    "plt.title('每个Episode的奖励')\n",
    "plt.xlabel('Episode')\n",
    "plt.ylabel('奖励')\n",
    "\n",
    "# 绘制移动平均奖励\n",
    "plt.subplot(1, 2, 2)\n",
    "window_size = 50\n",
    "moving_avg = []\n",
    "for i in range(len(scores)):\n",
    "    start_idx = max(0, i - window_size + 1)\n",
    "    moving_avg.append(np.mean(scores[start_idx:i+1]))\n",
    "\n",
    "plt.plot(moving_avg)\n",
    "plt.title(f'移动平均奖励 (窗口大小: {window_size})')\n",
    "plt.xlabel('Episode')\n",
    "plt.ylabel('平均奖励')\n",
    "\n",
    "plt.tight_layout()\n",
    "plt.show()\n",
    "\n",
    "print(f\"最后100个episode的平均奖励: {np.mean(scores[-100:]):.2f}\")"
   ]
  },
  {
   "cell_type": "code",
   "execution_count": 8,
   "id": "7c8cb8bd",
   "metadata": {},
   "outputs": [
    {
     "name": "stdout",
     "output_type": "stream",
     "text": [
      "测试Episode 1: 奖励 = 202.0, 步数 = 202\n",
      "测试Episode 2: 奖励 = 223.0, 步数 = 223\n",
      "测试Episode 3: 奖励 = 218.0, 步数 = 218\n",
      "测试Episode 4: 奖励 = 213.0, 步数 = 213\n",
      "测试Episode 5: 奖励 = 238.0, 步数 = 238\n",
      "\n",
      "测试结果 - 平均奖励: 218.80\n"
     ]
    }
   ],
   "source": [
    "# 测试训练好的智能体\n",
    "def test_agent(agent, num_episodes=5):\n",
    "    env = gym.make('CartPole-v1')\n",
    "    test_scores = []\n",
    "    \n",
    "    for episode in range(num_episodes):\n",
    "        state = env.reset()\n",
    "        if isinstance(state, tuple):\n",
    "            state = state[0]\n",
    "            \n",
    "        total_reward = 0\n",
    "        step_count = 0\n",
    "        \n",
    "        while True:\n",
    "            # 使用训练好的智能体选择动作\n",
    "            action, _ = agent.get_action(state)\n",
    "            \n",
    "            step_result = env.step(action)\n",
    "            if len(step_result) == 4:\n",
    "                next_state, reward, done, _ = step_result\n",
    "            else:\n",
    "                next_state, reward, terminated, truncated, _ = step_result\n",
    "                done = terminated or truncated\n",
    "                \n",
    "            state = next_state\n",
    "            total_reward += reward\n",
    "            step_count += 1\n",
    "            \n",
    "            if done:\n",
    "                break\n",
    "        \n",
    "        test_scores.append(total_reward)\n",
    "        print(f\"测试Episode {episode + 1}: 奖励 = {total_reward}, 步数 = {step_count}\")\n",
    "    \n",
    "    env.close()\n",
    "    print(f\"\\n测试结果 - 平均奖励: {np.mean(test_scores):.2f}\")\n",
    "    return test_scores\n",
    "\n",
    "# 测试智能体\n",
    "test_scores = test_agent(trained_agent)"
   ]
  },
  {
   "cell_type": "markdown",
   "id": "d2852f5a",
   "metadata": {},
   "source": [
    "# **Actor-Critic 算法解释**\n",
    "\n",
    "## 核心概念\n",
    "\n",
    "**Actor-Critic** 是一种结合了价值函数方法和策略梯度方法的强化学习算法：\n",
    "\n",
    "### 1. **Actor (策略网络)**\n",
    "- 负责学习策略，即在给定状态下选择什么动作\n",
    "- 输出动作的概率分布\n",
    "- 使用策略梯度进行更新\n",
    "\n",
    "### 2. **Critic (价值网络)** \n",
    "- 负责评估状态的价值\n",
    "- 输出状态价值函数 V(s)\n",
    "- 用来计算TD误差，指导Actor的学习\n",
    "\n",
    "## 算法流程\n",
    "\n",
    "1. **状态输入**: 将环境状态输入Actor和Critic网络\n",
    "2. **动作选择**: Actor根据策略选择动作\n",
    "3. **环境交互**: 执行动作，获得奖励和下一状态\n",
    "4. **TD误差计算**: Critic计算时序差分误差\n",
    "5. **网络更新**: \n",
    "   - Critic: 最小化价值函数预测误差\n",
    "   - Actor: 使用TD误差作为优势函数更新策略\n",
    "\n",
    "## 优势\n",
    "- **低方差**: Critic提供baseline，减少策略梯度的方差\n",
    "- **在线学习**: 可以实时学习，不需要完整的episode\n",
    "- **稳定性**: 比纯策略梯度方法更稳定"
   ]
  },
  {
   "cell_type": "code",
   "execution_count": 9,
   "id": "4764b834",
   "metadata": {},
   "outputs": [
    {
     "name": "stdout",
     "output_type": "stream",
     "text": [
      "简化版Actor-Critic定义完成！这个版本更容易理解算法的核心思想。\n"
     ]
    }
   ],
   "source": [
    "# 📚 简化版Actor-Critic (更容易理解)\n",
    "import torch\n",
    "import torch.nn as nn\n",
    "import gymnasium as gym\n",
    "import numpy as np\n",
    "\n",
    "class SimpleActorCritic:\n",
    "    def __init__(self, state_dim, action_dim):\n",
    "        # 简单的线性网络\n",
    "        self.actor = nn.Sequential(\n",
    "            nn.Linear(state_dim, 64),\n",
    "            nn.ReLU(),\n",
    "            nn.Linear(64, action_dim),\n",
    "            nn.Softmax(dim=-1)\n",
    "        )\n",
    "        \n",
    "        self.critic = nn.Sequential(\n",
    "            nn.Linear(state_dim, 64),\n",
    "            nn.ReLU(),\n",
    "            nn.Linear(64, 1)\n",
    "        )\n",
    "        \n",
    "        self.actor_optimizer = torch.optim.Adam(self.actor.parameters(), lr=0.001)\n",
    "        self.critic_optimizer = torch.optim.Adam(self.critic.parameters(), lr=0.001)\n",
    "    \n",
    "    def get_action(self, state):\n",
    "        \"\"\"选择动作\"\"\"\n",
    "        probs = self.actor(torch.FloatTensor(state))\n",
    "        action = torch.multinomial(probs, 1).item()\n",
    "        return action, torch.log(probs[action])\n",
    "    \n",
    "    def update(self, state, reward, next_state, action_log_prob, done):\n",
    "        \"\"\"核心更新逻辑\"\"\"\n",
    "        # 1. 计算TD误差\n",
    "        current_value = self.critic(torch.FloatTensor(state))\n",
    "        next_value = self.critic(torch.FloatTensor(next_state)) if not done else 0\n",
    "        td_target = reward + 0.99 * next_value\n",
    "        td_error = td_target - current_value\n",
    "        \n",
    "        # 2. 更新Critic (价值网络)\n",
    "        critic_loss = td_error.pow(2)\n",
    "        self.critic_optimizer.zero_grad()\n",
    "        critic_loss.backward(retain_graph=True)\n",
    "        self.critic_optimizer.step()\n",
    "        \n",
    "        # 3. 更新Actor (策略网络)\n",
    "        actor_loss = -action_log_prob * td_error.detach()\n",
    "        self.actor_optimizer.zero_grad()\n",
    "        actor_loss.backward()\n",
    "        self.actor_optimizer.step()\n",
    "\n",
    "print(\"简化版Actor-Critic定义完成！这个版本更容易理解算法的核心思想。\")"
   ]
  }
 ],
 "metadata": {
  "kernelspec": {
   "display_name": ".venv (3.10.12)",
   "language": "python",
   "name": "python3"
  },
  "language_info": {
   "codemirror_mode": {
    "name": "ipython",
    "version": 3
   },
   "file_extension": ".py",
   "mimetype": "text/x-python",
   "name": "python",
   "nbconvert_exporter": "python",
   "pygments_lexer": "ipython3",
   "version": "3.10.12"
  }
 },
 "nbformat": 4,
 "nbformat_minor": 5
}
