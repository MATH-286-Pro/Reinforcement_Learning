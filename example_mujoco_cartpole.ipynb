{
 "cells": [
  {
   "cell_type": "code",
   "execution_count": 9,
   "id": "48936926",
   "metadata": {},
   "outputs": [],
   "source": [
    "%%bash\n",
    "cat >setup.bash <<EOF\n",
    "\n",
    "# Ensure Jax matches the CUDA that will be used to build Madrona MJX\n",
    "!pip uninstall -y jax\n",
    "!pip install jax[\"cuda12_local\"]==0.4.35\n",
    "\n",
    "! sudo apt install libx11-dev libxrandr-dev libxinerama-dev libxcursor-dev libxi-dev mesa-common-dev\n",
    "\n",
    "# Prevent Python from trying to import the source packages.\n",
    "mkdir modules\n",
    "cd modules\n",
    "\n",
    "# -- 7) Install madrona-mjx\n",
    "echo \"Cloning madrona-mjx...\"\n",
    "git clone https://github.com/shacklettbp/madrona_mjx.git\n",
    "\n",
    "cd madrona_mjx\n",
    "git submodule update --init --recursive\n",
    "\n",
    "mkdir build\n",
    "cd build\n",
    "cmake -DLOAD_VULKAN=OFF ..\n",
    "make -j 8\n",
    "\n",
    "cd ..\n",
    "pip install -e .\n",
    "EOF"
   ]
  },
  {
   "cell_type": "code",
   "execution_count": 14,
   "id": "12d2057c",
   "metadata": {},
   "outputs": [
    {
     "name": "stderr",
     "output_type": "stream",
     "text": [
      "setup.bash: line 3: !pip: command not found\n",
      "setup.bash: line 4: !pip: command not found\n",
      "sudo: a terminal is required to read the password; either use the -S option to read from standard input or configure an askpass helper\n",
      "sudo: a password is required\n",
      "Cloning into 'madrona_mjx'...\n"
     ]
    },
    {
     "name": "stdout",
     "output_type": "stream",
     "text": [
      "Cloning madrona-mjx...\n"
     ]
    },
    {
     "name": "stderr",
     "output_type": "stream",
     "text": [
      "Submodule 'external/madrona' (https://github.com/shacklettbp/madrona.git) registered for path 'external/madrona'\n",
      "Submodule 'scripts/mujoco_menagerie' (https://github.com/google-deepmind/mujoco_menagerie) registered for path 'external/mujoco_menagerie'\n",
      "Cloning into '/home/jiajun_hu/Documents/Reinforcement_Learning/modules/madrona_mjx/external/madrona'...\n",
      "Cloning into '/home/jiajun_hu/Documents/Reinforcement_Learning/modules/madrona_mjx/external/mujoco_menagerie'...\n"
     ]
    },
    {
     "name": "stdout",
     "output_type": "stream",
     "text": [
      "Submodule path 'external/madrona': checked out 'b46e6ab782cfd06956c35cb2ae42351a3fb5f38c'\n"
     ]
    },
    {
     "name": "stderr",
     "output_type": "stream",
     "text": [
      "Submodule 'external/SPIRV-Reflect' (https://github.com/KhronosGroup/SPIRV-Reflect.git) registered for path 'external/madrona/external/SPIRV-Reflect'\n",
      "Submodule 'external/cccl' (https://github.com/NVIDIA/cccl.git) registered for path 'external/madrona/external/cccl'\n",
      "Submodule 'external/fast_float' (https://github.com/fastfloat/fast_float.git) registered for path 'external/madrona/external/fast_float'\n",
      "Submodule 'external/glfw' (https://github.com/glfw/glfw.git) registered for path 'external/madrona/external/glfw'\n",
      "Submodule 'external/googletest' (https://github.com/google/googletest.git) registered for path 'external/madrona/external/googletest'\n",
      "Submodule 'external/imgui' (https://github.com/ocornut/imgui.git) registered for path 'external/madrona/external/imgui'\n",
      "Submodule 'external/madrona-deps' (https://github.com/shacklettbp/madrona-deps.git) registered for path 'external/madrona/external/madrona-deps'\n",
      "Submodule 'external/madrona-toolchain' (https://github.com/shacklettbp/madrona-toolchain.git) registered for path 'external/madrona/external/madrona-toolchain'\n",
      "Submodule 'external/meshoptimizer' (https://github.com/zeux/meshoptimizer.git) registered for path 'external/madrona/external/meshoptimizer'\n",
      "Submodule 'external/nanobind' (https://github.com/wjakob/nanobind.git) registered for path 'external/madrona/external/nanobind'\n",
      "Submodule 'external/simdjson' (https://github.com/simdjson/simdjson.git) registered for path 'external/madrona/external/simdjson'\n",
      "Submodule 'external/stb' (https://github.com/nothings/stb.git) registered for path 'external/madrona/external/stb'\n",
      "Submodule 'external/tinyusdz' (https://github.com/syoyo/tinyusdz.git) registered for path 'external/madrona/external/tinyusdz'\n",
      "Cloning into '/home/jiajun_hu/Documents/Reinforcement_Learning/modules/madrona_mjx/external/madrona/external/SPIRV-Reflect'...\n",
      "Cloning into '/home/jiajun_hu/Documents/Reinforcement_Learning/modules/madrona_mjx/external/madrona/external/cccl'...\n",
      "Cloning into '/home/jiajun_hu/Documents/Reinforcement_Learning/modules/madrona_mjx/external/madrona/external/fast_float'...\n",
      "Cloning into '/home/jiajun_hu/Documents/Reinforcement_Learning/modules/madrona_mjx/external/madrona/external/glfw'...\n",
      "Cloning into '/home/jiajun_hu/Documents/Reinforcement_Learning/modules/madrona_mjx/external/madrona/external/googletest'...\n",
      "Cloning into '/home/jiajun_hu/Documents/Reinforcement_Learning/modules/madrona_mjx/external/madrona/external/imgui'...\n",
      "Cloning into '/home/jiajun_hu/Documents/Reinforcement_Learning/modules/madrona_mjx/external/madrona/external/madrona-deps'...\n",
      "Cloning into '/home/jiajun_hu/Documents/Reinforcement_Learning/modules/madrona_mjx/external/madrona/external/madrona-toolchain'...\n",
      "Cloning into '/home/jiajun_hu/Documents/Reinforcement_Learning/modules/madrona_mjx/external/madrona/external/meshoptimizer'...\n",
      "Cloning into '/home/jiajun_hu/Documents/Reinforcement_Learning/modules/madrona_mjx/external/madrona/external/nanobind'...\n",
      "Cloning into '/home/jiajun_hu/Documents/Reinforcement_Learning/modules/madrona_mjx/external/madrona/external/simdjson'...\n",
      "Cloning into '/home/jiajun_hu/Documents/Reinforcement_Learning/modules/madrona_mjx/external/madrona/external/stb'...\n",
      "Cloning into '/home/jiajun_hu/Documents/Reinforcement_Learning/modules/madrona_mjx/external/madrona/external/tinyusdz'...\n"
     ]
    },
    {
     "name": "stdout",
     "output_type": "stream",
     "text": [
      "Submodule path 'external/madrona/external/SPIRV-Reflect': checked out '756e7b13243b5c4b110bb63dba72d10716dd1dfe'\n"
     ]
    },
    {
     "name": "stderr",
     "output_type": "stream",
     "text": [
      "Submodule 'third_party/googletest' (https://github.com/google/googletest) registered for path 'external/madrona/external/SPIRV-Reflect/third_party/googletest'\n",
      "Cloning into '/home/jiajun_hu/Documents/Reinforcement_Learning/modules/madrona_mjx/external/madrona/external/SPIRV-Reflect/third_party/googletest'...\n"
     ]
    },
    {
     "name": "stdout",
     "output_type": "stream",
     "text": [
      "Submodule path 'external/madrona/external/SPIRV-Reflect/third_party/googletest': checked out 'e2239ee6043f73722e7aa812a459f54a28552929'\n",
      "Submodule path 'external/madrona/external/cccl': checked out '0ebdddf0bf8fd2c69fbfbe4ee5049111faa6f226'\n",
      "Submodule path 'external/madrona/external/fast_float': checked out '69e0ea6f8ae521667ca80e41b4e8e44d8b33a31d'\n",
      "Submodule path 'external/madrona/external/glfw': checked out '3fa2360720eeba1964df3c0ecf4b5df8648a8e52'\n",
      "Submodule path 'external/madrona/external/googletest': checked out 'dddb219c3eb96d7f9200f09b0a381f016e6b4562'\n",
      "Submodule path 'external/madrona/external/imgui': checked out '89d3dabf2e6a5a58c5d2ff3a82bbf4d2d478a07c'\n",
      "Submodule path 'external/madrona/external/madrona-deps': checked out '8d57788474dffe3a011e2467df52f6285e662668'\n",
      "Submodule path 'external/madrona/external/madrona-toolchain': checked out '8c0b55b52c74f2a2f237c97be332bd5d579a39c1'\n",
      "Submodule path 'external/madrona/external/meshoptimizer': checked out '8764552531e55588a049b2d5f171db33200ac512'\n",
      "Submodule path 'external/madrona/external/nanobind': checked out '0035bc43fa2af390b48608c9bf4595d7505c2386'\n"
     ]
    },
    {
     "name": "stderr",
     "output_type": "stream",
     "text": [
      "Submodule 'ext/robin_map' (https://github.com/Tessil/robin-map) registered for path 'external/madrona/external/nanobind/ext/robin_map'\n",
      "Cloning into '/home/jiajun_hu/Documents/Reinforcement_Learning/modules/madrona_mjx/external/madrona/external/nanobind/ext/robin_map'...\n"
     ]
    },
    {
     "name": "stdout",
     "output_type": "stream",
     "text": [
      "Submodule path 'external/madrona/external/nanobind/ext/robin_map': checked out '68ff7325b3898fca267a103bad5c509e8861144d'\n",
      "Submodule path 'external/madrona/external/simdjson': checked out '412a8f7c4de85187e378f68b301c14c600c717b2'\n",
      "Submodule path 'external/madrona/external/stb': checked out 'beebb24b945efdea3b9bba23affb8eb3ba8982e7'\n",
      "Submodule path 'external/madrona/external/tinyusdz': checked out 'b1d1b4719cd87636ff2fe463f47c2c61110b0966'\n",
      "Submodule path 'external/mujoco_menagerie': checked out 'a88bc450470d97ebc1f282e5969675fb4d1f0ed7'\n",
      "-- Setting build type to RelWithDebInfo\n",
      "-- Populating madronabundledtoolchain\n",
      "-- Configuring incomplete, errors occurred!\n",
      "See also \"/home/jiajun_hu/Documents/Reinforcement_Learning/modules/madrona_mjx/external/madrona/external/madrona-toolchain/cmake-tmp/madronabundledtoolchain-subbuild/CMakeFiles/CMakeOutput.log\".\n",
      "-- Configuring incomplete, errors occurred!\n"
     ]
    },
    {
     "name": "stderr",
     "output_type": "stream",
     "text": [
      "\u001b[31mCMake Error at /usr/share/cmake-3.22/Modules/ExternalProject.cmake:2781 (message):\n",
      "  URL_HASH is set to\n",
      "\n",
      "    SHA256=08e37569e94479b2f585ddb1992116d38409d0300bd7366c2804b22c48fbe0bc;DOWNLOAD_EXTRACT_TIMESTAMP;TRUE\n",
      "\n",
      "  but must be ALGO=value where ALGO is\n",
      "\n",
      "    MD5|SHA1|SHA224|SHA256|SHA384|SHA512|SHA3_224|SHA3_256|SHA3_384|SHA3_512\n",
      "\n",
      "  and value is a hex string.\n",
      "Call Stack (most recent call first):\n",
      "  /usr/share/cmake-3.22/Modules/ExternalProject.cmake:3716 (_ep_add_download_command)\n",
      "  CMakeLists.txt:15 (ExternalProject_Add)\n",
      "\n",
      "\u001b[0m\n",
      "\u001b[31mCMake Error at /usr/share/cmake-3.22/Modules/FetchContent.cmake:1075 (message):\n",
      "  CMake step for madronabundledtoolchain failed: 1\n",
      "Call Stack (most recent call first):\n",
      "  /usr/share/cmake-3.22/Modules/FetchContent.cmake:1216:EVAL:2 (__FetchContent_directPopulate)\n",
      "  /usr/share/cmake-3.22/Modules/FetchContent.cmake:1216 (cmake_language)\n",
      "  /usr/share/cmake-3.22/Modules/FetchContent.cmake:1259 (FetchContent_Populate)\n",
      "  external/madrona/external/madrona-toolchain/cmake/set_toolchain.cmake:62 (FetchContent_MakeAvailable)\n",
      "  external/madrona/external/madrona-toolchain/cmake/set_toolchain.cmake:67 (madrona_setup_toolchain)\n",
      "  external/madrona/cmake/madrona_init.cmake:25 (include)\n",
      "  CMakeLists.txt:3 (include)\n",
      "\n",
      "\u001b[0m\n",
      "make: *** No targets specified and no makefile found.  Stop.\n"
     ]
    },
    {
     "name": "stdout",
     "output_type": "stream",
     "text": [
      "Obtaining file:///home/jiajun_hu/Documents/Reinforcement_Learning/modules/madrona_mjx\n",
      "  Checking if build backend supports build_editable: started\n",
      "  Checking if build backend supports build_editable: finished with status 'done'\n",
      "  Getting requirements to build editable: started\n",
      "  Getting requirements to build editable: finished with status 'done'\n",
      "  Installing backend dependencies: started\n",
      "  Installing backend dependencies: finished with status 'done'\n",
      "  Preparing editable metadata (pyproject.toml): started\n",
      "  Preparing editable metadata (pyproject.toml): finished with status 'done'\n",
      "Building wheels for collected packages: madrona_mjx\n",
      "  Building editable for madrona_mjx (pyproject.toml): started\n",
      "  Building editable for madrona_mjx (pyproject.toml): finished with status 'done'\n",
      "  Created wheel for madrona_mjx: filename=madrona_mjx-0.0.1-cp310-cp310-manylinux_2_35_x86_64.whl size=1469 sha256=27c8c3afcf4c0d305bf81de53607f30b52c186d1b13d46c06c4f4797525ea610\n",
      "  Stored in directory: /tmp/pip-ephem-wheel-cache-omdz3lw6/wheels/36/25/0a/ba8f550f3058d92d9a46b94d87095c802a61315f514f054ded\n",
      "Successfully built madrona_mjx\n",
      "Installing collected packages: madrona_mjx\n",
      "Successfully installed madrona_mjx-0.0.1\n"
     ]
    },
    {
     "data": {
      "text/plain": [
       "CompletedProcess(args=['bash', 'setup.bash'], returncode=0)"
      ]
     },
     "execution_count": 14,
     "metadata": {},
     "output_type": "execute_result"
    }
   ],
   "source": [
    "import subprocess\n",
    "# Run the setup.bash script\n",
    "subprocess.run([\"bash\", \"setup.bash\"], check=True)"
   ]
  },
  {
   "cell_type": "markdown",
   "id": "38289cf7",
   "metadata": {},
   "source": [
    "# Import packages for plotting and creating graphics\n",
    "\n"
   ]
  },
  {
   "cell_type": "code",
   "execution_count": 1,
   "id": "7bf19823",
   "metadata": {},
   "outputs": [],
   "source": [
    "# @title Import packages for plotting and creating graphics\n",
    "import json\n",
    "import itertools\n",
    "import time\n",
    "from typing import Callable, List, NamedTuple, Optional, Union\n",
    "import numpy as np\n",
    "\n",
    "# Graphics and plotting.\n",
    "import mediapy as media\n",
    "import matplotlib.pyplot as plt\n",
    "\n",
    "# More legible printing from numpy.\n",
    "np.set_printoptions(precision=3, suppress=True, linewidth=100)"
   ]
  },
  {
   "cell_type": "markdown",
   "id": "b81926ac",
   "metadata": {},
   "source": [
    "# Import Mujoco, MJX, Brax"
   ]
  },
  {
   "cell_type": "code",
   "execution_count": 2,
   "id": "22e03609",
   "metadata": {},
   "outputs": [],
   "source": [
    "# @title Import MuJoCo, MJX, and Brax\n",
    "from datetime import datetime\n",
    "import functools\n",
    "import os\n",
    "import time\n",
    "\n",
    "from brax.training.agents.ppo import networks_vision as ppo_networks_vision\n",
    "from brax.training.agents.ppo import train as ppo\n",
    "from IPython.display import clear_output\n",
    "import jax\n",
    "from jax import numpy as jp\n",
    "from matplotlib import pyplot as plt\n",
    "import mediapy as media\n",
    "import numpy as np\n",
    "\n",
    "from mujoco_playground import wrapper\n",
    "\n",
    "np.set_printoptions(precision=3, suppress=True, linewidth=100)"
   ]
  },
  {
   "cell_type": "markdown",
   "id": "b07771de",
   "metadata": {},
   "source": [
    "Now, let's load Mujoco Playground's JAX Cartpole re-implementation. While we're at it, we'll configure it for the upcoming training. Please note that calling `dm_control_suite.load` builds the rendering backend, taking around **3 minutes** on a T4 instance."
   ]
  },
  {
   "cell_type": "code",
   "execution_count": 3,
   "id": "c598bf15",
   "metadata": {},
   "outputs": [
    {
     "name": "stderr",
     "output_type": "stream",
     "text": [
      "/home/jiajun_hu/Documents/Reinforcement_Learning/.venv/lib/python3.10/site-packages/mujoco_playground/_src/dm_control_suite/cartpole.py:106: UserWarning: Madrona MJX not installed. Cannot use vision with.\n",
      "  warnings.warn(\"Madrona MJX not installed. Cannot use vision with.\")\n"
     ]
    }
   ],
   "source": [
    "from mujoco_playground import dm_control_suite\n",
    "\n",
    "\n",
    "num_envs = 512\n",
    "ctrl_dt = 0.04\n",
    "episode_length = int(3 / ctrl_dt)\n",
    "\n",
    "config_overrides = {\n",
    "    \"vision\": True,\n",
    "    \"vision_config.render_batch_size\": num_envs,\n",
    "    \"action_repeat\": 1,\n",
    "    \"ctrl_dt\": ctrl_dt,\n",
    "    \"episode_length\": episode_length,\n",
    "}\n",
    "\n",
    "env_name = \"CartpoleBalance\"\n",
    "env = dm_control_suite.load(\n",
    "    env_name, config_overrides=config_overrides\n",
    ")\n",
    "\n",
    "env = wrapper.wrap_for_brax_training(\n",
    "    env,\n",
    "    vision=True,\n",
    "    num_vision_envs=num_envs,\n",
    "    action_repeat=1,\n",
    "    episode_length=episode_length,\n",
    ")"
   ]
  },
  {
   "cell_type": "code",
   "execution_count": 4,
   "id": "8e7e609d",
   "metadata": {},
   "outputs": [],
   "source": [
    "jit_reset = jax.jit(env.reset)\n",
    "jit_step = jax.jit(env.step)"
   ]
  },
  {
   "cell_type": "markdown",
   "id": "3f1a2505",
   "metadata": {},
   "source": [
    "# Balancing a cartpole"
   ]
  },
  {
   "cell_type": "code",
   "execution_count": 5,
   "id": "351f4881",
   "metadata": {},
   "outputs": [
    {
     "ename": "AttributeError",
     "evalue": "'Balance' object has no attribute 'renderer'",
     "output_type": "error",
     "traceback": [
      "\u001b[0;31m---------------------------------------------------------------------------\u001b[0m",
      "\u001b[0;31mAttributeError\u001b[0m                            Traceback (most recent call last)",
      "Cell \u001b[0;32mIn[5], line 5\u001b[0m\n\u001b[1;32m      1\u001b[0m \u001b[38;5;28;01mdef\u001b[39;00m\u001b[38;5;250m \u001b[39m\u001b[38;5;21munvmap\u001b[39m(x):\n\u001b[1;32m      2\u001b[0m   \u001b[38;5;28;01mreturn\u001b[39;00m jax\u001b[38;5;241m.\u001b[39mtree\u001b[38;5;241m.\u001b[39mmap(\u001b[38;5;28;01mlambda\u001b[39;00m y: y[\u001b[38;5;241m0\u001b[39m], x)\n\u001b[0;32m----> 5\u001b[0m state \u001b[38;5;241m=\u001b[39m \u001b[43mjit_reset\u001b[49m\u001b[43m(\u001b[49m\u001b[43mjax\u001b[49m\u001b[38;5;241;43m.\u001b[39;49m\u001b[43mrandom\u001b[49m\u001b[38;5;241;43m.\u001b[39;49m\u001b[43msplit\u001b[49m\u001b[43m(\u001b[49m\u001b[43mjax\u001b[49m\u001b[38;5;241;43m.\u001b[39;49m\u001b[43mrandom\u001b[49m\u001b[38;5;241;43m.\u001b[39;49m\u001b[43mPRNGKey\u001b[49m\u001b[43m(\u001b[49m\u001b[38;5;241;43m0\u001b[39;49m\u001b[43m)\u001b[49m\u001b[43m,\u001b[49m\u001b[43m \u001b[49m\u001b[43mnum_envs\u001b[49m\u001b[43m)\u001b[49m\u001b[43m)\u001b[49m\n\u001b[1;32m      6\u001b[0m rollout \u001b[38;5;241m=\u001b[39m [unvmap(state)]\n\u001b[1;32m      8\u001b[0m f \u001b[38;5;241m=\u001b[39m \u001b[38;5;241m0.2\u001b[39m\n",
      "    \u001b[0;31m[... skipping hidden 14 frame]\u001b[0m\n",
      "File \u001b[0;32m~/Documents/Reinforcement_Learning/.venv/lib/python3.10/site-packages/mujoco_playground/_src/wrapper.py:129\u001b[0m, in \u001b[0;36mBraxAutoResetWrapper.reset\u001b[0;34m(self, rng)\u001b[0m\n\u001b[1;32m    128\u001b[0m \u001b[38;5;28;01mdef\u001b[39;00m\u001b[38;5;250m \u001b[39m\u001b[38;5;21mreset\u001b[39m(\u001b[38;5;28mself\u001b[39m, rng: jax\u001b[38;5;241m.\u001b[39mArray) \u001b[38;5;241m-\u001b[39m\u001b[38;5;241m>\u001b[39m mjx_env\u001b[38;5;241m.\u001b[39mState:\n\u001b[0;32m--> 129\u001b[0m   state \u001b[38;5;241m=\u001b[39m \u001b[38;5;28;43mself\u001b[39;49m\u001b[38;5;241;43m.\u001b[39;49m\u001b[43menv\u001b[49m\u001b[38;5;241;43m.\u001b[39;49m\u001b[43mreset\u001b[49m\u001b[43m(\u001b[49m\u001b[43mrng\u001b[49m\u001b[43m)\u001b[49m\n\u001b[1;32m    130\u001b[0m   state\u001b[38;5;241m.\u001b[39minfo[\u001b[38;5;124m'\u001b[39m\u001b[38;5;124mfirst_state\u001b[39m\u001b[38;5;124m'\u001b[39m] \u001b[38;5;241m=\u001b[39m state\u001b[38;5;241m.\u001b[39mdata\n\u001b[1;32m    131\u001b[0m   state\u001b[38;5;241m.\u001b[39minfo[\u001b[38;5;124m'\u001b[39m\u001b[38;5;124mfirst_obs\u001b[39m\u001b[38;5;124m'\u001b[39m] \u001b[38;5;241m=\u001b[39m state\u001b[38;5;241m.\u001b[39mobs\n",
      "File \u001b[0;32m~/Documents/Reinforcement_Learning/.venv/lib/python3.10/site-packages/brax/envs/wrappers/training.py:84\u001b[0m, in \u001b[0;36mEpisodeWrapper.reset\u001b[0;34m(self, rng)\u001b[0m\n\u001b[1;32m     83\u001b[0m \u001b[38;5;28;01mdef\u001b[39;00m\u001b[38;5;250m \u001b[39m\u001b[38;5;21mreset\u001b[39m(\u001b[38;5;28mself\u001b[39m, rng: jax\u001b[38;5;241m.\u001b[39mArray) \u001b[38;5;241m-\u001b[39m\u001b[38;5;241m>\u001b[39m State:\n\u001b[0;32m---> 84\u001b[0m   state \u001b[38;5;241m=\u001b[39m \u001b[38;5;28;43mself\u001b[39;49m\u001b[38;5;241;43m.\u001b[39;49m\u001b[43menv\u001b[49m\u001b[38;5;241;43m.\u001b[39;49m\u001b[43mreset\u001b[49m\u001b[43m(\u001b[49m\u001b[43mrng\u001b[49m\u001b[43m)\u001b[49m\n\u001b[1;32m     85\u001b[0m   state\u001b[38;5;241m.\u001b[39minfo[\u001b[38;5;124m'\u001b[39m\u001b[38;5;124msteps\u001b[39m\u001b[38;5;124m'\u001b[39m] \u001b[38;5;241m=\u001b[39m jp\u001b[38;5;241m.\u001b[39mzeros(rng\u001b[38;5;241m.\u001b[39mshape[:\u001b[38;5;241m-\u001b[39m\u001b[38;5;241m1\u001b[39m])\n\u001b[1;32m     86\u001b[0m   state\u001b[38;5;241m.\u001b[39minfo[\u001b[38;5;124m'\u001b[39m\u001b[38;5;124mtruncation\u001b[39m\u001b[38;5;124m'\u001b[39m] \u001b[38;5;241m=\u001b[39m jp\u001b[38;5;241m.\u001b[39mzeros(rng\u001b[38;5;241m.\u001b[39mshape[:\u001b[38;5;241m-\u001b[39m\u001b[38;5;241m1\u001b[39m])\n",
      "File \u001b[0;32m~/Documents/Reinforcement_Learning/.venv/lib/python3.10/site-packages/mujoco_playground/_src/wrapper.py:307\u001b[0m, in \u001b[0;36mMadronaWrapper.reset\u001b[0;34m(self, rng)\u001b[0m\n\u001b[1;32m    305\u001b[0m \u001b[38;5;28;01mdef\u001b[39;00m\u001b[38;5;250m \u001b[39m\u001b[38;5;21mreset\u001b[39m(\u001b[38;5;28mself\u001b[39m, rng: jax\u001b[38;5;241m.\u001b[39mArray) \u001b[38;5;241m-\u001b[39m\u001b[38;5;241m>\u001b[39m mjx_env\u001b[38;5;241m.\u001b[39mState:\n\u001b[1;32m    306\u001b[0m \u001b[38;5;250m  \u001b[39m\u001b[38;5;124;03m\"\"\"Resets the environment to an initial state.\"\"\"\u001b[39;00m\n\u001b[0;32m--> 307\u001b[0m   \u001b[38;5;28;01mreturn\u001b[39;00m \u001b[38;5;28;43mself\u001b[39;49m\u001b[38;5;241;43m.\u001b[39;49m\u001b[43m_env\u001b[49m\u001b[38;5;241;43m.\u001b[39;49m\u001b[43mreset\u001b[49m\u001b[43m(\u001b[49m\u001b[43mrng\u001b[49m\u001b[43m)\u001b[49m\n",
      "File \u001b[0;32m~/Documents/Reinforcement_Learning/.venv/lib/python3.10/site-packages/mujoco_playground/_src/wrapper.py:174\u001b[0m, in \u001b[0;36mBraxDomainRandomizationVmapWrapper.reset\u001b[0;34m(self, rng)\u001b[0m\n\u001b[1;32m    171\u001b[0m   env \u001b[38;5;241m=\u001b[39m \u001b[38;5;28mself\u001b[39m\u001b[38;5;241m.\u001b[39m_env_fn(mjx_model\u001b[38;5;241m=\u001b[39mmjx_model)\n\u001b[1;32m    172\u001b[0m   \u001b[38;5;28;01mreturn\u001b[39;00m env\u001b[38;5;241m.\u001b[39mreset(rng)\n\u001b[0;32m--> 174\u001b[0m state \u001b[38;5;241m=\u001b[39m \u001b[43mjax\u001b[49m\u001b[38;5;241;43m.\u001b[39;49m\u001b[43mvmap\u001b[49m\u001b[43m(\u001b[49m\u001b[43mreset\u001b[49m\u001b[43m,\u001b[49m\u001b[43m \u001b[49m\u001b[43min_axes\u001b[49m\u001b[38;5;241;43m=\u001b[39;49m\u001b[43m[\u001b[49m\u001b[38;5;28;43mself\u001b[39;49m\u001b[38;5;241;43m.\u001b[39;49m\u001b[43m_in_axes\u001b[49m\u001b[43m,\u001b[49m\u001b[43m \u001b[49m\u001b[38;5;241;43m0\u001b[39;49m\u001b[43m]\u001b[49m\u001b[43m)\u001b[49m\u001b[43m(\u001b[49m\u001b[38;5;28;43mself\u001b[39;49m\u001b[38;5;241;43m.\u001b[39;49m\u001b[43m_mjx_model_v\u001b[49m\u001b[43m,\u001b[49m\u001b[43m \u001b[49m\u001b[43mrng\u001b[49m\u001b[43m)\u001b[49m\n\u001b[1;32m    175\u001b[0m \u001b[38;5;28;01mreturn\u001b[39;00m state\n",
      "    \u001b[0;31m[... skipping hidden 7 frame]\u001b[0m\n",
      "File \u001b[0;32m~/Documents/Reinforcement_Learning/.venv/lib/python3.10/site-packages/mujoco_playground/_src/wrapper.py:172\u001b[0m, in \u001b[0;36mBraxDomainRandomizationVmapWrapper.reset.<locals>.reset\u001b[0;34m(mjx_model, rng)\u001b[0m\n\u001b[1;32m    170\u001b[0m \u001b[38;5;28;01mdef\u001b[39;00m\u001b[38;5;250m \u001b[39m\u001b[38;5;21mreset\u001b[39m(mjx_model, rng):\n\u001b[1;32m    171\u001b[0m   env \u001b[38;5;241m=\u001b[39m \u001b[38;5;28mself\u001b[39m\u001b[38;5;241m.\u001b[39m_env_fn(mjx_model\u001b[38;5;241m=\u001b[39mmjx_model)\n\u001b[0;32m--> 172\u001b[0m   \u001b[38;5;28;01mreturn\u001b[39;00m \u001b[43menv\u001b[49m\u001b[38;5;241;43m.\u001b[39;49m\u001b[43mreset\u001b[49m\u001b[43m(\u001b[49m\u001b[43mrng\u001b[49m\u001b[43m)\u001b[49m\n",
      "File \u001b[0;32m~/Documents/Reinforcement_Learning/.venv/lib/python3.10/site-packages/mujoco_playground/_src/dm_control_suite/cartpole.py:182\u001b[0m, in \u001b[0;36mBalance.reset\u001b[0;34m(self, rng)\u001b[0m\n\u001b[1;32m    180\u001b[0m obs \u001b[38;5;241m=\u001b[39m \u001b[38;5;28mself\u001b[39m\u001b[38;5;241m.\u001b[39m_get_obs(data, info)\n\u001b[1;32m    181\u001b[0m \u001b[38;5;28;01mif\u001b[39;00m \u001b[38;5;28mself\u001b[39m\u001b[38;5;241m.\u001b[39m_vision:\n\u001b[0;32m--> 182\u001b[0m   render_token, rgb, _ \u001b[38;5;241m=\u001b[39m \u001b[38;5;28;43mself\u001b[39;49m\u001b[38;5;241;43m.\u001b[39;49m\u001b[43mrenderer\u001b[49m\u001b[38;5;241m.\u001b[39minit(data, \u001b[38;5;28mself\u001b[39m\u001b[38;5;241m.\u001b[39m_mjx_model)\n\u001b[1;32m    183\u001b[0m   info\u001b[38;5;241m.\u001b[39mupdate({\u001b[38;5;124m\"\u001b[39m\u001b[38;5;124mrender_token\u001b[39m\u001b[38;5;124m\"\u001b[39m: render_token})\n\u001b[1;32m    184\u001b[0m   obs \u001b[38;5;241m=\u001b[39m _rgba_to_grayscale(rgb[\u001b[38;5;241m0\u001b[39m]\u001b[38;5;241m.\u001b[39mastype(jp\u001b[38;5;241m.\u001b[39mfloat32)) \u001b[38;5;241m/\u001b[39m \u001b[38;5;241m255.0\u001b[39m\n",
      "\u001b[0;31mAttributeError\u001b[0m: 'Balance' object has no attribute 'renderer'"
     ]
    }
   ],
   "source": [
    "def unvmap(x):\n",
    "  return jax.tree.map(lambda y: y[0], x)\n",
    "\n",
    "\n",
    "state = jit_reset(jax.random.split(jax.random.PRNGKey(0), num_envs))\n",
    "rollout = [unvmap(state)]\n",
    "\n",
    "f = 0.2\n",
    "for i in range(episode_length):\n",
    "  action = []\n",
    "  for j in range(env.action_size):\n",
    "    action.append(\n",
    "        jp.sin(\n",
    "            unvmap(state).data.time * 2 * jp.pi * f\n",
    "            + j * 2 * jp.pi / env.action_size\n",
    "        )\n",
    "    )\n",
    "  action = jp.tile(jp.array(action), (num_envs, 1))\n",
    "  state = jit_step(state, action)\n",
    "  rollout.append(unvmap(state))\n",
    "\n",
    "frames = env.render(rollout, camera=\"fixed\", width=256, height=256)\n",
    "k = next(iter(rollout[0].obs.items()), None)[0]  # ex: pixels/view_0\n",
    "obs = [r.obs[k][..., 0] for r in rollout]  # visualise first channel\n",
    "\n",
    "media.show_videos([frames, obs], fps=1.0 / env.dt, height=256)"
   ]
  }
 ],
 "metadata": {
  "kernelspec": {
   "display_name": ".venv (3.10.12)",
   "language": "python",
   "name": "python3"
  },
  "language_info": {
   "codemirror_mode": {
    "name": "ipython",
    "version": 3
   },
   "file_extension": ".py",
   "mimetype": "text/x-python",
   "name": "python",
   "nbconvert_exporter": "python",
   "pygments_lexer": "ipython3",
   "version": "3.10.12"
  }
 },
 "nbformat": 4,
 "nbformat_minor": 5
}
